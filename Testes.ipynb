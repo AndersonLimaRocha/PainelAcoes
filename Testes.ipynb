{
 "cells": [
  {
   "cell_type": "code",
   "execution_count": 20,
   "metadata": {},
   "outputs": [],
   "source": [
    "import pandas as pd\n",
    "import yfinance as yf\n",
    "import datetime as dt\n",
    "import streamlit as st\n",
    "from datetime import datetime\n",
    "import os\n",
    "from operator import itemgetter, attrgetter\n",
    "import numpy as np\n",
    "\n",
    "import streamlit as st\n",
    "import plotly.express as px\n",
    "\n",
    "\n",
    "\n",
    "import warnings    \n",
    "warnings.filterwarnings(\"ignore\")\n",
    "\n",
    "\n",
    "\n"
   ]
  },
  {
   "cell_type": "code",
   "execution_count": 21,
   "metadata": {},
   "outputs": [],
   "source": [
    "#######################################################################################################\n",
    "                            ######### Carga do Dataframe ##########\n",
    "#######################################################################################################\n",
    "file = '/Outputs/MinhasCotacoes.xlsx'\n",
    "caminho_atual = os.getcwd()\n",
    "file = caminho_atual + file"
   ]
  },
  {
   "cell_type": "code",
   "execution_count": 22,
   "metadata": {},
   "outputs": [
    {
     "data": {
      "text/html": [
       "<div>\n",
       "<style scoped>\n",
       "    .dataframe tbody tr th:only-of-type {\n",
       "        vertical-align: middle;\n",
       "    }\n",
       "\n",
       "    .dataframe tbody tr th {\n",
       "        vertical-align: top;\n",
       "    }\n",
       "\n",
       "    .dataframe thead th {\n",
       "        text-align: right;\n",
       "    }\n",
       "</style>\n",
       "<table border=\"1\" class=\"dataframe\">\n",
       "  <thead>\n",
       "    <tr style=\"text-align: right;\">\n",
       "      <th></th>\n",
       "      <th>SETORECONOMICO</th>\n",
       "      <th>SUBSETOR</th>\n",
       "      <th>SEGMENTO</th>\n",
       "      <th>EMPRESA</th>\n",
       "      <th>TITULO</th>\n",
       "      <th>ACAO</th>\n",
       "      <th>QTDECOTAS</th>\n",
       "      <th>VALORCOMPRA</th>\n",
       "      <th>DATACOMPRA</th>\n",
       "      <th>DATACOTACAO</th>\n",
       "      <th>VALORABERTURA</th>\n",
       "      <th>MAIORCOTACAO</th>\n",
       "      <th>MENORCOTACAO</th>\n",
       "      <th>VALORFECHAMENTO</th>\n",
       "      <th>VALORAJUSTADO</th>\n",
       "      <th>DATAPROCESSAMENTO</th>\n",
       "      <th>VALORDIVIDENDO</th>\n",
       "      <th>FLAG_DIVIDENDOS</th>\n",
       "      <th>ANOCOTACAO</th>\n",
       "      <th>DIVIDENDOSANO</th>\n",
       "    </tr>\n",
       "  </thead>\n",
       "  <tbody>\n",
       "    <tr>\n",
       "      <th>0</th>\n",
       "      <td>Consumo não Cíclico</td>\n",
       "      <td>Bebidas</td>\n",
       "      <td>Cervejas e Refrigerantes</td>\n",
       "      <td>AMBEV S/A</td>\n",
       "      <td>AMBEVS/A ON</td>\n",
       "      <td>ABEV3</td>\n",
       "      <td>10</td>\n",
       "      <td>17.65</td>\n",
       "      <td>2019-06-06</td>\n",
       "      <td>2019-06-06</td>\n",
       "      <td>17.60</td>\n",
       "      <td>17.75</td>\n",
       "      <td>17.49</td>\n",
       "      <td>17.64</td>\n",
       "      <td>14.48</td>\n",
       "      <td>2024-06-10</td>\n",
       "      <td>0.0</td>\n",
       "      <td>Não</td>\n",
       "      <td>2019</td>\n",
       "      <td>Sim</td>\n",
       "    </tr>\n",
       "    <tr>\n",
       "      <th>1</th>\n",
       "      <td>Consumo não Cíclico</td>\n",
       "      <td>Bebidas</td>\n",
       "      <td>Cervejas e Refrigerantes</td>\n",
       "      <td>AMBEV S/A</td>\n",
       "      <td>AMBEVS/A ON</td>\n",
       "      <td>ABEV3</td>\n",
       "      <td>10</td>\n",
       "      <td>17.65</td>\n",
       "      <td>2019-06-06</td>\n",
       "      <td>2019-06-07</td>\n",
       "      <td>17.70</td>\n",
       "      <td>17.78</td>\n",
       "      <td>17.58</td>\n",
       "      <td>17.61</td>\n",
       "      <td>14.46</td>\n",
       "      <td>2024-06-10</td>\n",
       "      <td>0.0</td>\n",
       "      <td>Não</td>\n",
       "      <td>2019</td>\n",
       "      <td>Sim</td>\n",
       "    </tr>\n",
       "    <tr>\n",
       "      <th>2</th>\n",
       "      <td>Consumo não Cíclico</td>\n",
       "      <td>Bebidas</td>\n",
       "      <td>Cervejas e Refrigerantes</td>\n",
       "      <td>AMBEV S/A</td>\n",
       "      <td>AMBEVS/A ON</td>\n",
       "      <td>ABEV3</td>\n",
       "      <td>10</td>\n",
       "      <td>17.65</td>\n",
       "      <td>2019-06-06</td>\n",
       "      <td>2019-06-10</td>\n",
       "      <td>17.61</td>\n",
       "      <td>17.90</td>\n",
       "      <td>17.60</td>\n",
       "      <td>17.65</td>\n",
       "      <td>14.49</td>\n",
       "      <td>2024-06-10</td>\n",
       "      <td>0.0</td>\n",
       "      <td>Não</td>\n",
       "      <td>2019</td>\n",
       "      <td>Sim</td>\n",
       "    </tr>\n",
       "    <tr>\n",
       "      <th>3</th>\n",
       "      <td>Consumo não Cíclico</td>\n",
       "      <td>Bebidas</td>\n",
       "      <td>Cervejas e Refrigerantes</td>\n",
       "      <td>AMBEV S/A</td>\n",
       "      <td>AMBEVS/A ON</td>\n",
       "      <td>ABEV3</td>\n",
       "      <td>10</td>\n",
       "      <td>17.65</td>\n",
       "      <td>2019-06-06</td>\n",
       "      <td>2019-06-11</td>\n",
       "      <td>17.68</td>\n",
       "      <td>17.95</td>\n",
       "      <td>17.59</td>\n",
       "      <td>17.72</td>\n",
       "      <td>14.55</td>\n",
       "      <td>2024-06-10</td>\n",
       "      <td>0.0</td>\n",
       "      <td>Não</td>\n",
       "      <td>2019</td>\n",
       "      <td>Sim</td>\n",
       "    </tr>\n",
       "    <tr>\n",
       "      <th>4</th>\n",
       "      <td>Consumo não Cíclico</td>\n",
       "      <td>Bebidas</td>\n",
       "      <td>Cervejas e Refrigerantes</td>\n",
       "      <td>AMBEV S/A</td>\n",
       "      <td>AMBEVS/A ON</td>\n",
       "      <td>ABEV3</td>\n",
       "      <td>10</td>\n",
       "      <td>17.65</td>\n",
       "      <td>2019-06-06</td>\n",
       "      <td>2019-06-12</td>\n",
       "      <td>17.72</td>\n",
       "      <td>17.79</td>\n",
       "      <td>17.43</td>\n",
       "      <td>17.68</td>\n",
       "      <td>14.51</td>\n",
       "      <td>2024-06-10</td>\n",
       "      <td>0.0</td>\n",
       "      <td>Não</td>\n",
       "      <td>2019</td>\n",
       "      <td>Sim</td>\n",
       "    </tr>\n",
       "    <tr>\n",
       "      <th>...</th>\n",
       "      <td>...</td>\n",
       "      <td>...</td>\n",
       "      <td>...</td>\n",
       "      <td>...</td>\n",
       "      <td>...</td>\n",
       "      <td>...</td>\n",
       "      <td>...</td>\n",
       "      <td>...</td>\n",
       "      <td>...</td>\n",
       "      <td>...</td>\n",
       "      <td>...</td>\n",
       "      <td>...</td>\n",
       "      <td>...</td>\n",
       "      <td>...</td>\n",
       "      <td>...</td>\n",
       "      <td>...</td>\n",
       "      <td>...</td>\n",
       "      <td>...</td>\n",
       "      <td>...</td>\n",
       "      <td>...</td>\n",
       "    </tr>\n",
       "    <tr>\n",
       "      <th>46002</th>\n",
       "      <td>Consumo Cíclico</td>\n",
       "      <td>Comércio Varejista</td>\n",
       "      <td>Eletrodomésticos</td>\n",
       "      <td>CASAS BAHIA</td>\n",
       "      <td>VIAVAREJO ONNM</td>\n",
       "      <td>BHIA3</td>\n",
       "      <td>249</td>\n",
       "      <td>10.23</td>\n",
       "      <td>2020-03-19</td>\n",
       "      <td>2024-06-03</td>\n",
       "      <td>7.03</td>\n",
       "      <td>7.12</td>\n",
       "      <td>6.88</td>\n",
       "      <td>6.98</td>\n",
       "      <td>6.98</td>\n",
       "      <td>2024-06-10</td>\n",
       "      <td>0.0</td>\n",
       "      <td>Não</td>\n",
       "      <td>2024</td>\n",
       "      <td>Não</td>\n",
       "    </tr>\n",
       "    <tr>\n",
       "      <th>46003</th>\n",
       "      <td>Consumo Cíclico</td>\n",
       "      <td>Comércio Varejista</td>\n",
       "      <td>Eletrodomésticos</td>\n",
       "      <td>CASAS BAHIA</td>\n",
       "      <td>VIAVAREJO ONNM</td>\n",
       "      <td>BHIA3</td>\n",
       "      <td>249</td>\n",
       "      <td>10.23</td>\n",
       "      <td>2020-03-19</td>\n",
       "      <td>2024-06-04</td>\n",
       "      <td>6.97</td>\n",
       "      <td>6.98</td>\n",
       "      <td>6.35</td>\n",
       "      <td>6.35</td>\n",
       "      <td>6.35</td>\n",
       "      <td>2024-06-10</td>\n",
       "      <td>0.0</td>\n",
       "      <td>Não</td>\n",
       "      <td>2024</td>\n",
       "      <td>Não</td>\n",
       "    </tr>\n",
       "    <tr>\n",
       "      <th>46004</th>\n",
       "      <td>Consumo Cíclico</td>\n",
       "      <td>Comércio Varejista</td>\n",
       "      <td>Eletrodomésticos</td>\n",
       "      <td>CASAS BAHIA</td>\n",
       "      <td>VIAVAREJO ONNM</td>\n",
       "      <td>BHIA3</td>\n",
       "      <td>249</td>\n",
       "      <td>10.23</td>\n",
       "      <td>2020-03-19</td>\n",
       "      <td>2024-06-05</td>\n",
       "      <td>6.35</td>\n",
       "      <td>6.48</td>\n",
       "      <td>6.18</td>\n",
       "      <td>6.27</td>\n",
       "      <td>6.27</td>\n",
       "      <td>2024-06-10</td>\n",
       "      <td>0.0</td>\n",
       "      <td>Não</td>\n",
       "      <td>2024</td>\n",
       "      <td>Não</td>\n",
       "    </tr>\n",
       "    <tr>\n",
       "      <th>46005</th>\n",
       "      <td>Consumo Cíclico</td>\n",
       "      <td>Comércio Varejista</td>\n",
       "      <td>Eletrodomésticos</td>\n",
       "      <td>CASAS BAHIA</td>\n",
       "      <td>VIAVAREJO ONNM</td>\n",
       "      <td>BHIA3</td>\n",
       "      <td>249</td>\n",
       "      <td>10.23</td>\n",
       "      <td>2020-03-19</td>\n",
       "      <td>2024-06-06</td>\n",
       "      <td>6.27</td>\n",
       "      <td>6.79</td>\n",
       "      <td>6.27</td>\n",
       "      <td>6.68</td>\n",
       "      <td>6.68</td>\n",
       "      <td>2024-06-10</td>\n",
       "      <td>0.0</td>\n",
       "      <td>Não</td>\n",
       "      <td>2024</td>\n",
       "      <td>Não</td>\n",
       "    </tr>\n",
       "    <tr>\n",
       "      <th>46006</th>\n",
       "      <td>Consumo Cíclico</td>\n",
       "      <td>Comércio Varejista</td>\n",
       "      <td>Eletrodomésticos</td>\n",
       "      <td>CASAS BAHIA</td>\n",
       "      <td>VIAVAREJO ONNM</td>\n",
       "      <td>BHIA3</td>\n",
       "      <td>249</td>\n",
       "      <td>10.23</td>\n",
       "      <td>2020-03-19</td>\n",
       "      <td>2024-06-07</td>\n",
       "      <td>6.44</td>\n",
       "      <td>6.76</td>\n",
       "      <td>6.37</td>\n",
       "      <td>6.58</td>\n",
       "      <td>6.58</td>\n",
       "      <td>2024-06-10</td>\n",
       "      <td>0.0</td>\n",
       "      <td>Não</td>\n",
       "      <td>2024</td>\n",
       "      <td>Não</td>\n",
       "    </tr>\n",
       "  </tbody>\n",
       "</table>\n",
       "<p>46007 rows × 20 columns</p>\n",
       "</div>"
      ],
      "text/plain": [
       "            SETORECONOMICO            SUBSETOR                  SEGMENTO  \\\n",
       "0      Consumo não Cíclico             Bebidas  Cervejas e Refrigerantes   \n",
       "1      Consumo não Cíclico             Bebidas  Cervejas e Refrigerantes   \n",
       "2      Consumo não Cíclico             Bebidas  Cervejas e Refrigerantes   \n",
       "3      Consumo não Cíclico             Bebidas  Cervejas e Refrigerantes   \n",
       "4      Consumo não Cíclico             Bebidas  Cervejas e Refrigerantes   \n",
       "...                    ...                 ...                       ...   \n",
       "46002      Consumo Cíclico  Comércio Varejista          Eletrodomésticos   \n",
       "46003      Consumo Cíclico  Comércio Varejista          Eletrodomésticos   \n",
       "46004      Consumo Cíclico  Comércio Varejista          Eletrodomésticos   \n",
       "46005      Consumo Cíclico  Comércio Varejista          Eletrodomésticos   \n",
       "46006      Consumo Cíclico  Comércio Varejista          Eletrodomésticos   \n",
       "\n",
       "           EMPRESA          TITULO   ACAO  QTDECOTAS  VALORCOMPRA DATACOMPRA  \\\n",
       "0        AMBEV S/A     AMBEVS/A ON  ABEV3         10        17.65 2019-06-06   \n",
       "1        AMBEV S/A     AMBEVS/A ON  ABEV3         10        17.65 2019-06-06   \n",
       "2        AMBEV S/A     AMBEVS/A ON  ABEV3         10        17.65 2019-06-06   \n",
       "3        AMBEV S/A     AMBEVS/A ON  ABEV3         10        17.65 2019-06-06   \n",
       "4        AMBEV S/A     AMBEVS/A ON  ABEV3         10        17.65 2019-06-06   \n",
       "...            ...             ...    ...        ...          ...        ...   \n",
       "46002  CASAS BAHIA  VIAVAREJO ONNM  BHIA3        249        10.23 2020-03-19   \n",
       "46003  CASAS BAHIA  VIAVAREJO ONNM  BHIA3        249        10.23 2020-03-19   \n",
       "46004  CASAS BAHIA  VIAVAREJO ONNM  BHIA3        249        10.23 2020-03-19   \n",
       "46005  CASAS BAHIA  VIAVAREJO ONNM  BHIA3        249        10.23 2020-03-19   \n",
       "46006  CASAS BAHIA  VIAVAREJO ONNM  BHIA3        249        10.23 2020-03-19   \n",
       "\n",
       "      DATACOTACAO  VALORABERTURA  MAIORCOTACAO  MENORCOTACAO  VALORFECHAMENTO  \\\n",
       "0      2019-06-06          17.60         17.75         17.49            17.64   \n",
       "1      2019-06-07          17.70         17.78         17.58            17.61   \n",
       "2      2019-06-10          17.61         17.90         17.60            17.65   \n",
       "3      2019-06-11          17.68         17.95         17.59            17.72   \n",
       "4      2019-06-12          17.72         17.79         17.43            17.68   \n",
       "...           ...            ...           ...           ...              ...   \n",
       "46002  2024-06-03           7.03          7.12          6.88             6.98   \n",
       "46003  2024-06-04           6.97          6.98          6.35             6.35   \n",
       "46004  2024-06-05           6.35          6.48          6.18             6.27   \n",
       "46005  2024-06-06           6.27          6.79          6.27             6.68   \n",
       "46006  2024-06-07           6.44          6.76          6.37             6.58   \n",
       "\n",
       "       VALORAJUSTADO DATAPROCESSAMENTO  VALORDIVIDENDO FLAG_DIVIDENDOS  \\\n",
       "0              14.48        2024-06-10             0.0             Não   \n",
       "1              14.46        2024-06-10             0.0             Não   \n",
       "2              14.49        2024-06-10             0.0             Não   \n",
       "3              14.55        2024-06-10             0.0             Não   \n",
       "4              14.51        2024-06-10             0.0             Não   \n",
       "...              ...               ...             ...             ...   \n",
       "46002           6.98        2024-06-10             0.0             Não   \n",
       "46003           6.35        2024-06-10             0.0             Não   \n",
       "46004           6.27        2024-06-10             0.0             Não   \n",
       "46005           6.68        2024-06-10             0.0             Não   \n",
       "46006           6.58        2024-06-10             0.0             Não   \n",
       "\n",
       "       ANOCOTACAO DIVIDENDOSANO  \n",
       "0            2019           Sim  \n",
       "1            2019           Sim  \n",
       "2            2019           Sim  \n",
       "3            2019           Sim  \n",
       "4            2019           Sim  \n",
       "...           ...           ...  \n",
       "46002        2024           Não  \n",
       "46003        2024           Não  \n",
       "46004        2024           Não  \n",
       "46005        2024           Não  \n",
       "46006        2024           Não  \n",
       "\n",
       "[46007 rows x 20 columns]"
      ]
     },
     "execution_count": 22,
     "metadata": {},
     "output_type": "execute_result"
    }
   ],
   "source": [
    "minhasacoes = pd.read_excel(file, sheet_name='Cotação das Ações')\n",
    "minhasacoes"
   ]
  },
  {
   "cell_type": "code",
   "execution_count": 23,
   "metadata": {},
   "outputs": [],
   "source": [
    "# função para selecionar a quantidade de linhas do dataframe\n",
    "def mostra_qntd_linhas(dataframe):\n",
    "\n",
    "    qntd_linhas = st.sidebar.slider('Selecione a quantidade de linhas que deseja mostrar na tabela', min_value = 1, max_value = len(dataframe), step = 1)\n",
    "\n",
    "    #st.write(dataframe.head(qntd_linhas).style.format(subset = ['Valor'], formatter=\"{:.2f}\"))"
   ]
  },
  {
   "cell_type": "code",
   "execution_count": 24,
   "metadata": {},
   "outputs": [],
   "source": [
    "def retorna_ultima_cotacao_acao(df):\n",
    "    latest_quotes = df.loc[df.groupby('ACAO')['DATACOTACAO'].idxmax()]\n",
    "    latest_quotes = latest_quotes[['ACAO', 'DATACOTACAO', 'QTDECOTAS', 'VALORFECHAMENTO']].drop_duplicates()\n",
    "    latest_quotes['VALORTOTALATUAL'] = latest_quotes['QTDECOTAS'] * latest_quotes['VALORFECHAMENTO']\n",
    "    return latest_quotes"
   ]
  },
  {
   "cell_type": "code",
   "execution_count": 25,
   "metadata": {},
   "outputs": [],
   "source": [
    "def create_dataframe(coluna):\n",
    "    df = minhasacoes[[coluna, 'QTDECOTAS', 'VALORCOMPRA', 'ACAO']].drop_duplicates()\n",
    "    df['VALORTOTALCOMPRA'] = df['QTDECOTAS'] * df['VALORCOMPRA']\n",
    "    df = df.groupby([coluna, 'ACAO']).agg({\n",
    "        'QTDECOTAS': np.sum,\n",
    "        'VALORTOTALCOMPRA': np.sum\n",
    "    }).sort_values(by='VALORTOTALCOMPRA', ascending=False).reset_index()\n",
    "    return df"
   ]
  },
  {
   "cell_type": "code",
   "execution_count": 26,
   "metadata": {},
   "outputs": [],
   "source": [
    "def consolidate_details(df, latest_quotes):\n",
    "    df = pd.merge(df, latest_quotes[['ACAO', 'DATACOTACAO', 'VALORTOTALATUAL']], on='ACAO', how='inner')\n",
    "    df = df.drop_duplicates().sort_values(by='ACAO').reset_index(drop=True)\n",
    "    return df"
   ]
  },
  {
   "cell_type": "code",
   "execution_count": 27,
   "metadata": {},
   "outputs": [],
   "source": [
    "def group_by(df,coluna):\n",
    "    df = df.groupby(coluna).agg({\n",
    "        'QTDECOTAS': np.sum,\n",
    "        'VALORTOTALCOMPRA': np.sum,\n",
    "        'VALORTOTALATUAL': np.sum\n",
    "    }).sort_values(by='VALORTOTALCOMPRA', ascending=False).reset_index()\n",
    "    return df"
   ]
  },
  {
   "cell_type": "code",
   "execution_count": 28,
   "metadata": {},
   "outputs": [],
   "source": [
    "def update_performance(df):\n",
    "    df['RENDIMENTO(%)'] = ((df['VALORTOTALATUAL'] / df['VALORTOTALCOMPRA'] - 1) * 100).round(2)\n",
    "    df['PREJUIZO(%)'] = ((df['VALORTOTALCOMPRA'] / df['VALORTOTALATUAL'] - 1) * 100).round(2)\n",
    "    df.loc[df['VALORTOTALATUAL'] < df['VALORTOTALCOMPRA'], 'RENDIMENTO(%)'] = 0\n",
    "    df.loc[df['VALORTOTALATUAL'] >= df['VALORTOTALCOMPRA'], 'PREJUIZO(%)'] = 0\n",
    "    return df"
   ]
  },
  {
   "cell_type": "code",
   "execution_count": 29,
   "metadata": {},
   "outputs": [],
   "source": [
    "def agupamento(agrupamento, df):\n",
    "    coluna = agrupamento\n",
    "    ult_cot = retorna_ultima_cotacao_acao(df)\n",
    "    dtf = create_dataframe(coluna)\n",
    "    dtf = consolidate_details(dtf, ult_cot)\n",
    "    dtf = group_by(dtf, coluna)\n",
    "    dtf = update_performance(dtf)\n",
    "    return dtf"
   ]
  },
  {
   "cell_type": "code",
   "execution_count": 30,
   "metadata": {},
   "outputs": [],
   "source": [
    "st = agupamento('SETORECONOMICO', minhasacoes)\n",
    "subst = agupamento('SUBSETOR', minhasacoes)\n",
    "sg = agupamento('SEGMENTO', minhasacoes)\n",
    "emp = agupamento('EMPRESA', minhasacoes)"
   ]
  },
  {
   "cell_type": "code",
   "execution_count": 31,
   "metadata": {},
   "outputs": [
    {
     "data": {
      "application/vnd.plotly.v1+json": {
       "config": {
        "plotlyServerURL": "https://plot.ly"
       },
       "data": [
        {
         "alignmentgroup": "True",
         "hovertemplate": "VALORTOTALCOMPRA=%{x}<br>SETORECONOMICO=%{y}<extra></extra>",
         "legendgroup": "",
         "marker": {
          "color": "#000001",
          "pattern": {
           "shape": ""
          }
         },
         "name": "",
         "offsetgroup": "",
         "orientation": "h",
         "showlegend": false,
         "textposition": "auto",
         "type": "bar",
         "x": [
          9465.68,
          7675.54,
          6933.29,
          5202.530000000001,
          3251,
          3025.79,
          2001.04,
          1293.33,
          1251,
          1023.5
         ],
         "xaxis": "x",
         "y": [
          "Petróleo, Gás e Biocombustíveis",
          "Financeiro",
          "Consumo Cíclico",
          "Saúde",
          "Comunicações",
          "Materiais Básicos",
          "Consumo não Cíclico",
          "Bens Industriais",
          "Utilidade Pública",
          "Tecnologia da Informação"
         ],
         "yaxis": "y"
        }
       ],
       "layout": {
        "barmode": "relative",
        "legend": {
         "tracegroupgap": 0
        },
        "margin": {
         "t": 60
        },
        "template": {
         "data": {
          "candlestick": [
           {
            "decreasing": {
             "line": {
              "color": "#000033"
             }
            },
            "increasing": {
             "line": {
              "color": "#000032"
             }
            },
            "type": "candlestick"
           }
          ],
          "contour": [
           {
            "colorscale": [
             [
              0,
              "#000011"
             ],
             [
              0.1111111111111111,
              "#000012"
             ],
             [
              0.2222222222222222,
              "#000013"
             ],
             [
              0.3333333333333333,
              "#000014"
             ],
             [
              0.4444444444444444,
              "#000015"
             ],
             [
              0.5555555555555556,
              "#000016"
             ],
             [
              0.6666666666666666,
              "#000017"
             ],
             [
              0.7777777777777778,
              "#000018"
             ],
             [
              0.8888888888888888,
              "#000019"
             ],
             [
              1,
              "#000020"
             ]
            ],
            "type": "contour"
           }
          ],
          "contourcarpet": [
           {
            "colorscale": [
             [
              0,
              "#000011"
             ],
             [
              0.1111111111111111,
              "#000012"
             ],
             [
              0.2222222222222222,
              "#000013"
             ],
             [
              0.3333333333333333,
              "#000014"
             ],
             [
              0.4444444444444444,
              "#000015"
             ],
             [
              0.5555555555555556,
              "#000016"
             ],
             [
              0.6666666666666666,
              "#000017"
             ],
             [
              0.7777777777777778,
              "#000018"
             ],
             [
              0.8888888888888888,
              "#000019"
             ],
             [
              1,
              "#000020"
             ]
            ],
            "type": "contourcarpet"
           }
          ],
          "heatmap": [
           {
            "colorscale": [
             [
              0,
              "#000011"
             ],
             [
              0.1111111111111111,
              "#000012"
             ],
             [
              0.2222222222222222,
              "#000013"
             ],
             [
              0.3333333333333333,
              "#000014"
             ],
             [
              0.4444444444444444,
              "#000015"
             ],
             [
              0.5555555555555556,
              "#000016"
             ],
             [
              0.6666666666666666,
              "#000017"
             ],
             [
              0.7777777777777778,
              "#000018"
             ],
             [
              0.8888888888888888,
              "#000019"
             ],
             [
              1,
              "#000020"
             ]
            ],
            "type": "heatmap"
           }
          ],
          "histogram2d": [
           {
            "colorscale": [
             [
              0,
              "#000011"
             ],
             [
              0.1111111111111111,
              "#000012"
             ],
             [
              0.2222222222222222,
              "#000013"
             ],
             [
              0.3333333333333333,
              "#000014"
             ],
             [
              0.4444444444444444,
              "#000015"
             ],
             [
              0.5555555555555556,
              "#000016"
             ],
             [
              0.6666666666666666,
              "#000017"
             ],
             [
              0.7777777777777778,
              "#000018"
             ],
             [
              0.8888888888888888,
              "#000019"
             ],
             [
              1,
              "#000020"
             ]
            ],
            "type": "histogram2d"
           }
          ],
          "icicle": [
           {
            "textfont": {
             "color": "white"
            },
            "type": "icicle"
           }
          ],
          "sankey": [
           {
            "textfont": {
             "color": "#000036"
            },
            "type": "sankey"
           }
          ],
          "scatter": [
           {
            "marker": {
             "line": {
              "width": 0
             }
            },
            "type": "scatter"
           }
          ],
          "table": [
           {
            "cells": {
             "fill": {
              "color": "#000038"
             },
             "font": {
              "color": "#000037"
             },
             "line": {
              "color": "#000039"
             }
            },
            "header": {
             "fill": {
              "color": "#000040"
             },
             "font": {
              "color": "#000036"
             },
             "line": {
              "color": "#000039"
             }
            },
            "type": "table"
           }
          ],
          "waterfall": [
           {
            "connector": {
             "line": {
              "color": "#000036",
              "width": 2
             }
            },
            "decreasing": {
             "marker": {
              "color": "#000033"
             }
            },
            "increasing": {
             "marker": {
              "color": "#000032"
             }
            },
            "totals": {
             "marker": {
              "color": "#000034"
             }
            },
            "type": "waterfall"
           }
          ]
         },
         "layout": {
          "coloraxis": {
           "colorscale": [
            [
             0,
             "#000011"
            ],
            [
             0.1111111111111111,
             "#000012"
            ],
            [
             0.2222222222222222,
             "#000013"
            ],
            [
             0.3333333333333333,
             "#000014"
            ],
            [
             0.4444444444444444,
             "#000015"
            ],
            [
             0.5555555555555556,
             "#000016"
            ],
            [
             0.6666666666666666,
             "#000017"
            ],
            [
             0.7777777777777778,
             "#000018"
            ],
            [
             0.8888888888888888,
             "#000019"
            ],
            [
             1,
             "#000020"
            ]
           ]
          },
          "colorscale": {
           "diverging": [
            [
             0,
             "#000021"
            ],
            [
             0.1,
             "#000022"
            ],
            [
             0.2,
             "#000023"
            ],
            [
             0.3,
             "#000024"
            ],
            [
             0.4,
             "#000025"
            ],
            [
             0.5,
             "#000026"
            ],
            [
             0.6,
             "#000027"
            ],
            [
             0.7,
             "#000028"
            ],
            [
             0.8,
             "#000029"
            ],
            [
             0.9,
             "#000030"
            ],
            [
             1,
             "#000031"
            ]
           ],
           "sequential": [
            [
             0,
             "#000011"
            ],
            [
             0.1111111111111111,
             "#000012"
            ],
            [
             0.2222222222222222,
             "#000013"
            ],
            [
             0.3333333333333333,
             "#000014"
            ],
            [
             0.4444444444444444,
             "#000015"
            ],
            [
             0.5555555555555556,
             "#000016"
            ],
            [
             0.6666666666666666,
             "#000017"
            ],
            [
             0.7777777777777778,
             "#000018"
            ],
            [
             0.8888888888888888,
             "#000019"
            ],
            [
             1,
             "#000020"
            ]
           ],
           "sequentialminus": [
            [
             0,
             "#000011"
            ],
            [
             0.1111111111111111,
             "#000012"
            ],
            [
             0.2222222222222222,
             "#000013"
            ],
            [
             0.3333333333333333,
             "#000014"
            ],
            [
             0.4444444444444444,
             "#000015"
            ],
            [
             0.5555555555555556,
             "#000016"
            ],
            [
             0.6666666666666666,
             "#000017"
            ],
            [
             0.7777777777777778,
             "#000018"
            ],
            [
             0.8888888888888888,
             "#000019"
            ],
            [
             1,
             "#000020"
            ]
           ]
          },
          "colorway": [
           "#000001",
           "#000002",
           "#000003",
           "#000004",
           "#000005",
           "#000006",
           "#000007",
           "#000008",
           "#000009",
           "#000010"
          ]
         }
        },
        "xaxis": {
         "anchor": "y",
         "domain": [
          0,
          1
         ],
         "title": {
          "text": "VALORTOTALCOMPRA"
         }
        },
        "yaxis": {
         "anchor": "x",
         "domain": [
          0,
          1
         ],
         "title": {
          "text": "SETORECONOMICO"
         }
        }
       }
      }
     },
     "metadata": {},
     "output_type": "display_data"
    }
   ],
   "source": [
    "fig = px.bar(st, x=\"VALORTOTALCOMPRA\", y=\"SETORECONOMICO\", orientation='h')\n",
    "fig.show()"
   ]
  },
  {
   "cell_type": "code",
   "execution_count": 32,
   "metadata": {},
   "outputs": [
    {
     "data": {
      "application/vnd.plotly.v1+json": {
       "config": {
        "plotlyServerURL": "https://plot.ly"
       },
       "data": [
        {
         "alignmentgroup": "True",
         "customdata": [
          [
           68.75,
           11367.16112
          ],
          [
           69.96,
           12489.95006
          ],
          [
           71.3,
           13462.48555
          ],
          [
           72.13,
           16076.58803
          ],
          [
           72.88,
           18970.57086
          ],
          [
           74.21,
           22090.88306
          ],
          [
           75.76,
           22898.79214
          ],
          [
           76.86,
           26626.51503
          ],
          [
           77.95,
           26342.88426
          ],
          [
           78.61,
           28954.92589
          ],
          [
           79.77,
           33328.96507
          ],
          [
           80.653,
           36319.23501
          ]
         ],
         "hovertemplate": "year=%{x}<br>population of Canada=%{y}<br>lifeExp=%{marker.color}<br>gdpPercap=%{customdata[1]}<extra></extra>",
         "legendgroup": "",
         "marker": {
          "color": [
           68.75,
           69.96,
           71.3,
           72.13,
           72.88,
           74.21,
           75.76,
           76.86,
           77.95,
           78.61,
           79.77,
           80.653
          ],
          "coloraxis": "coloraxis",
          "pattern": {
           "shape": ""
          }
         },
         "name": "",
         "offsetgroup": "",
         "orientation": "v",
         "showlegend": false,
         "textposition": "auto",
         "type": "bar",
         "x": [
          1952,
          1957,
          1962,
          1967,
          1972,
          1977,
          1982,
          1987,
          1992,
          1997,
          2002,
          2007
         ],
         "xaxis": "x",
         "y": [
          14785584,
          17010154,
          18985849,
          20819767,
          22284500,
          23796400,
          25201900,
          26549700,
          28523502,
          30305843,
          31902268,
          33390141
         ],
         "yaxis": "y"
        }
       ],
       "layout": {
        "barmode": "relative",
        "coloraxis": {
         "colorbar": {
          "title": {
           "text": "lifeExp"
          }
         },
         "colorscale": [
          [
           0,
           "#000011"
          ],
          [
           0.1111111111111111,
           "#000012"
          ],
          [
           0.2222222222222222,
           "#000013"
          ],
          [
           0.3333333333333333,
           "#000014"
          ],
          [
           0.4444444444444444,
           "#000015"
          ],
          [
           0.5555555555555556,
           "#000016"
          ],
          [
           0.6666666666666666,
           "#000017"
          ],
          [
           0.7777777777777778,
           "#000018"
          ],
          [
           0.8888888888888888,
           "#000019"
          ],
          [
           1,
           "#000020"
          ]
         ]
        },
        "height": 400,
        "legend": {
         "tracegroupgap": 0
        },
        "margin": {
         "t": 60
        },
        "template": {
         "data": {
          "candlestick": [
           {
            "decreasing": {
             "line": {
              "color": "#000033"
             }
            },
            "increasing": {
             "line": {
              "color": "#000032"
             }
            },
            "type": "candlestick"
           }
          ],
          "contour": [
           {
            "colorscale": [
             [
              0,
              "#000011"
             ],
             [
              0.1111111111111111,
              "#000012"
             ],
             [
              0.2222222222222222,
              "#000013"
             ],
             [
              0.3333333333333333,
              "#000014"
             ],
             [
              0.4444444444444444,
              "#000015"
             ],
             [
              0.5555555555555556,
              "#000016"
             ],
             [
              0.6666666666666666,
              "#000017"
             ],
             [
              0.7777777777777778,
              "#000018"
             ],
             [
              0.8888888888888888,
              "#000019"
             ],
             [
              1,
              "#000020"
             ]
            ],
            "type": "contour"
           }
          ],
          "contourcarpet": [
           {
            "colorscale": [
             [
              0,
              "#000011"
             ],
             [
              0.1111111111111111,
              "#000012"
             ],
             [
              0.2222222222222222,
              "#000013"
             ],
             [
              0.3333333333333333,
              "#000014"
             ],
             [
              0.4444444444444444,
              "#000015"
             ],
             [
              0.5555555555555556,
              "#000016"
             ],
             [
              0.6666666666666666,
              "#000017"
             ],
             [
              0.7777777777777778,
              "#000018"
             ],
             [
              0.8888888888888888,
              "#000019"
             ],
             [
              1,
              "#000020"
             ]
            ],
            "type": "contourcarpet"
           }
          ],
          "heatmap": [
           {
            "colorscale": [
             [
              0,
              "#000011"
             ],
             [
              0.1111111111111111,
              "#000012"
             ],
             [
              0.2222222222222222,
              "#000013"
             ],
             [
              0.3333333333333333,
              "#000014"
             ],
             [
              0.4444444444444444,
              "#000015"
             ],
             [
              0.5555555555555556,
              "#000016"
             ],
             [
              0.6666666666666666,
              "#000017"
             ],
             [
              0.7777777777777778,
              "#000018"
             ],
             [
              0.8888888888888888,
              "#000019"
             ],
             [
              1,
              "#000020"
             ]
            ],
            "type": "heatmap"
           }
          ],
          "histogram2d": [
           {
            "colorscale": [
             [
              0,
              "#000011"
             ],
             [
              0.1111111111111111,
              "#000012"
             ],
             [
              0.2222222222222222,
              "#000013"
             ],
             [
              0.3333333333333333,
              "#000014"
             ],
             [
              0.4444444444444444,
              "#000015"
             ],
             [
              0.5555555555555556,
              "#000016"
             ],
             [
              0.6666666666666666,
              "#000017"
             ],
             [
              0.7777777777777778,
              "#000018"
             ],
             [
              0.8888888888888888,
              "#000019"
             ],
             [
              1,
              "#000020"
             ]
            ],
            "type": "histogram2d"
           }
          ],
          "icicle": [
           {
            "textfont": {
             "color": "white"
            },
            "type": "icicle"
           }
          ],
          "sankey": [
           {
            "textfont": {
             "color": "#000036"
            },
            "type": "sankey"
           }
          ],
          "scatter": [
           {
            "marker": {
             "line": {
              "width": 0
             }
            },
            "type": "scatter"
           }
          ],
          "table": [
           {
            "cells": {
             "fill": {
              "color": "#000038"
             },
             "font": {
              "color": "#000037"
             },
             "line": {
              "color": "#000039"
             }
            },
            "header": {
             "fill": {
              "color": "#000040"
             },
             "font": {
              "color": "#000036"
             },
             "line": {
              "color": "#000039"
             }
            },
            "type": "table"
           }
          ],
          "waterfall": [
           {
            "connector": {
             "line": {
              "color": "#000036",
              "width": 2
             }
            },
            "decreasing": {
             "marker": {
              "color": "#000033"
             }
            },
            "increasing": {
             "marker": {
              "color": "#000032"
             }
            },
            "totals": {
             "marker": {
              "color": "#000034"
             }
            },
            "type": "waterfall"
           }
          ]
         },
         "layout": {
          "coloraxis": {
           "colorscale": [
            [
             0,
             "#000011"
            ],
            [
             0.1111111111111111,
             "#000012"
            ],
            [
             0.2222222222222222,
             "#000013"
            ],
            [
             0.3333333333333333,
             "#000014"
            ],
            [
             0.4444444444444444,
             "#000015"
            ],
            [
             0.5555555555555556,
             "#000016"
            ],
            [
             0.6666666666666666,
             "#000017"
            ],
            [
             0.7777777777777778,
             "#000018"
            ],
            [
             0.8888888888888888,
             "#000019"
            ],
            [
             1,
             "#000020"
            ]
           ]
          },
          "colorscale": {
           "diverging": [
            [
             0,
             "#000021"
            ],
            [
             0.1,
             "#000022"
            ],
            [
             0.2,
             "#000023"
            ],
            [
             0.3,
             "#000024"
            ],
            [
             0.4,
             "#000025"
            ],
            [
             0.5,
             "#000026"
            ],
            [
             0.6,
             "#000027"
            ],
            [
             0.7,
             "#000028"
            ],
            [
             0.8,
             "#000029"
            ],
            [
             0.9,
             "#000030"
            ],
            [
             1,
             "#000031"
            ]
           ],
           "sequential": [
            [
             0,
             "#000011"
            ],
            [
             0.1111111111111111,
             "#000012"
            ],
            [
             0.2222222222222222,
             "#000013"
            ],
            [
             0.3333333333333333,
             "#000014"
            ],
            [
             0.4444444444444444,
             "#000015"
            ],
            [
             0.5555555555555556,
             "#000016"
            ],
            [
             0.6666666666666666,
             "#000017"
            ],
            [
             0.7777777777777778,
             "#000018"
            ],
            [
             0.8888888888888888,
             "#000019"
            ],
            [
             1,
             "#000020"
            ]
           ],
           "sequentialminus": [
            [
             0,
             "#000011"
            ],
            [
             0.1111111111111111,
             "#000012"
            ],
            [
             0.2222222222222222,
             "#000013"
            ],
            [
             0.3333333333333333,
             "#000014"
            ],
            [
             0.4444444444444444,
             "#000015"
            ],
            [
             0.5555555555555556,
             "#000016"
            ],
            [
             0.6666666666666666,
             "#000017"
            ],
            [
             0.7777777777777778,
             "#000018"
            ],
            [
             0.8888888888888888,
             "#000019"
            ],
            [
             1,
             "#000020"
            ]
           ]
          },
          "colorway": [
           "#000001",
           "#000002",
           "#000003",
           "#000004",
           "#000005",
           "#000006",
           "#000007",
           "#000008",
           "#000009",
           "#000010"
          ]
         }
        },
        "xaxis": {
         "anchor": "y",
         "domain": [
          0,
          1
         ],
         "title": {
          "text": "year"
         }
        },
        "yaxis": {
         "anchor": "x",
         "domain": [
          0,
          1
         ],
         "title": {
          "text": "population of Canada"
         }
        }
       }
      }
     },
     "metadata": {},
     "output_type": "display_data"
    }
   ],
   "source": [
    "import plotly.express as px\n",
    "\n",
    "df = px.data.gapminder().query(\"country == 'Canada'\")\n",
    "fig = px.bar(df, x='year', y='pop',\n",
    "             hover_data=['lifeExp', 'gdpPercap'], color='lifeExp',\n",
    "             labels={'pop':'population of Canada'}, height=400)\n",
    "fig.show()"
   ]
  },
  {
   "cell_type": "code",
   "execution_count": 33,
   "metadata": {},
   "outputs": [],
   "source": [
    "df = minhasacoes[minhasacoes['ACAO'] == 'ABEV3']\n",
    "df = df.rename(columns={'VALORAJUSTADO':'Cotação no Período','MAIORCOTACAO':'Máxima Cotação Período', 'MENORCOTACAO':'Menor Cotação Período', 'VALORCOMPRA': 'Valor de Compra'})"
   ]
  },
  {
   "cell_type": "code",
   "execution_count": 34,
   "metadata": {},
   "outputs": [
    {
     "data": {
      "text/plain": [
       "11.56"
      ]
     },
     "execution_count": 34,
     "metadata": {},
     "output_type": "execute_result"
    }
   ],
   "source": [
    "df.loc[df.index.max(), \"Cotação no Período\"]"
   ]
  },
  {
   "cell_type": "code",
   "execution_count": 35,
   "metadata": {},
   "outputs": [
    {
     "name": "stdout",
     "output_type": "stream",
     "text": [
      "<class 'pandas.core.frame.DataFrame'>\n",
      "Index: 1 entries, 1243 to 1243\n",
      "Data columns (total 5 columns):\n",
      " #   Column           Non-Null Count  Dtype         \n",
      "---  ------           --------------  -----         \n",
      " 0   ACAO             1 non-null      object        \n",
      " 1   DATACOTACAO      1 non-null      datetime64[ns]\n",
      " 2   QTDECOTAS        1 non-null      int64         \n",
      " 3   VALORFECHAMENTO  1 non-null      float64       \n",
      " 4   VALORTOTALATUAL  1 non-null      float64       \n",
      "dtypes: datetime64[ns](1), float64(2), int64(1), object(1)\n",
      "memory usage: 48.0+ bytes\n"
     ]
    }
   ],
   "source": [
    "ult_cot = retorna_ultima_cotacao_acao(df)\n",
    "ult_cot.info()"
   ]
  },
  {
   "cell_type": "code",
   "execution_count": 36,
   "metadata": {},
   "outputs": [],
   "source": [
    "# Função para retornar a ultima cotação da ação\n",
    "def retorna_ultima_cotacao_acao(df):\n",
    "    latest_quotes = df.loc[df.groupby('ACAO')['DATACOTACAO'].idxmax()]\n",
    "    latest_quotes = latest_quotes[['ACAO', 'DATACOTACAO', 'QTDECOTAS', 'VALORFECHAMENTO']].drop_duplicates()\n",
    "    latest_quotes['VALORTOTALATUAL'] = latest_quotes['QTDECOTAS'] * latest_quotes['VALORFECHAMENTO']\n",
    "    return latest_quotes\n",
    "\n",
    "# Função para retornar um dataframe agrupado\n",
    "def create_dataframe(coluna):\n",
    "    df = minhasacoes[[coluna, 'QTDECOTAS', 'VALORCOMPRA', 'ACAO']].drop_duplicates()\n",
    "    df['VALORTOTALCOMPRA'] = df['QTDECOTAS'] * df['VALORCOMPRA']\n",
    "    df = df.groupby([coluna, 'ACAO']).agg({\n",
    "        'QTDECOTAS': np.sum,\n",
    "        'VALORTOTALCOMPRA': np.sum\n",
    "    }).sort_values(by='VALORTOTALCOMPRA', ascending=False).reset_index()\n",
    "    return df\n",
    "\n",
    "# Função para consolidar o dataframe\n",
    "def consolidate_details(df, latest_quotes):\n",
    "    df = pd.merge(df, latest_quotes[['ACAO', 'DATACOTACAO', 'VALORTOTALATUAL']], on='ACAO', how='inner', validate=\"many_to_many\")\n",
    "    df = df.drop_duplicates().sort_values(by='ACAO').reset_index(drop=True)\n",
    "    return df\n",
    "\n",
    "# Função para agrupar o dataframe\n",
    "def group_by(df,coluna):\n",
    "    df = df.groupby(coluna).agg({\n",
    "        'QTDECOTAS': np.sum,\n",
    "        'VALORTOTALCOMPRA': np.sum,\n",
    "        'VALORTOTALATUAL': np.sum\n",
    "    }).sort_values(by='VALORTOTALCOMPRA', ascending=False).reset_index()\n",
    "    return df\n",
    "\n",
    "# Função para atualizar percentual de rendimento e prejuizo\n",
    "def update_performance(df):\n",
    "    df['RENDIMENTO(%)'] = ((df['VALORTOTALATUAL'] / df['VALORTOTALCOMPRA'] - 1) * 100).round(2)\n",
    "    df['PREJUIZO(%)'] = ((df['VALORTOTALCOMPRA'] / df['VALORTOTALATUAL'] - 1) * 100).round(2)\n",
    "    df['RETORNO(%)'] = ((df['VALORTOTALATUAL'] / df['VALORTOTALCOMPRA'] - 1) * 100).round(2)\n",
    "    df.loc[df['VALORTOTALATUAL'] < df['VALORTOTALCOMPRA'], 'RENDIMENTO(%)'] = 0\n",
    "    df.loc[df['VALORTOTALATUAL'] >= df['VALORTOTALCOMPRA'], 'PREJUIZO(%)'] = 0\n",
    "    return df\n",
    "\n",
    "# Função que centraliza as funções \n",
    "def agupamento(agrupamento, df):\n",
    "    coluna = agrupamento\n",
    "    ult_cot = retorna_ultima_cotacao_acao(df)\n",
    "    dtf = create_dataframe(coluna)\n",
    "    dtf = consolidate_details(dtf, ult_cot)\n",
    "    dtf = group_by(dtf, coluna)\n",
    "    dtf = update_performance(dtf)\n",
    "    return dtf\n",
    "\n",
    "# **************************************************************************************************\n",
    "\n",
    "st = agupamento('SETORECONOMICO', minhasacoes)\n",
    "subst = agupamento('SUBSETOR', minhasacoes)\n",
    "sg = agupamento('SEGMENTO', minhasacoes)\n",
    "emp = agupamento('EMPRESA', minhasacoes)\n",
    "\n",
    "# **************************************************************************************************"
   ]
  },
  {
   "cell_type": "code",
   "execution_count": 37,
   "metadata": {},
   "outputs": [
    {
     "data": {
      "text/html": [
       "<div>\n",
       "<style scoped>\n",
       "    .dataframe tbody tr th:only-of-type {\n",
       "        vertical-align: middle;\n",
       "    }\n",
       "\n",
       "    .dataframe tbody tr th {\n",
       "        vertical-align: top;\n",
       "    }\n",
       "\n",
       "    .dataframe thead th {\n",
       "        text-align: right;\n",
       "    }\n",
       "</style>\n",
       "<table border=\"1\" class=\"dataframe\">\n",
       "  <thead>\n",
       "    <tr style=\"text-align: right;\">\n",
       "      <th></th>\n",
       "      <th>SETORECONOMICO</th>\n",
       "      <th>QTDECOTAS</th>\n",
       "      <th>VALORTOTALCOMPRA</th>\n",
       "      <th>VALORTOTALATUAL</th>\n",
       "      <th>RENDIMENTO(%)</th>\n",
       "      <th>PREJUIZO(%)</th>\n",
       "      <th>RETORNO(%)</th>\n",
       "    </tr>\n",
       "  </thead>\n",
       "  <tbody>\n",
       "    <tr>\n",
       "      <th>0</th>\n",
       "      <td>Petróleo, Gás e Biocombustíveis</td>\n",
       "      <td>464</td>\n",
       "      <td>9465.68</td>\n",
       "      <td>17552.66</td>\n",
       "      <td>85.43</td>\n",
       "      <td>0.00</td>\n",
       "      <td>85.43</td>\n",
       "    </tr>\n",
       "    <tr>\n",
       "      <th>1</th>\n",
       "      <td>Financeiro</td>\n",
       "      <td>486</td>\n",
       "      <td>7675.54</td>\n",
       "      <td>5381.16</td>\n",
       "      <td>0.00</td>\n",
       "      <td>42.64</td>\n",
       "      <td>-29.89</td>\n",
       "    </tr>\n",
       "    <tr>\n",
       "      <th>2</th>\n",
       "      <td>Consumo Cíclico</td>\n",
       "      <td>488</td>\n",
       "      <td>6933.29</td>\n",
       "      <td>2284.96</td>\n",
       "      <td>0.00</td>\n",
       "      <td>203.43</td>\n",
       "      <td>-67.04</td>\n",
       "    </tr>\n",
       "    <tr>\n",
       "      <th>3</th>\n",
       "      <td>Saúde</td>\n",
       "      <td>213</td>\n",
       "      <td>5202.53</td>\n",
       "      <td>1547.21</td>\n",
       "      <td>0.00</td>\n",
       "      <td>236.25</td>\n",
       "      <td>-70.26</td>\n",
       "    </tr>\n",
       "    <tr>\n",
       "      <th>4</th>\n",
       "      <td>Comunicações</td>\n",
       "      <td>2740</td>\n",
       "      <td>3251.00</td>\n",
       "      <td>3288.80</td>\n",
       "      <td>1.16</td>\n",
       "      <td>0.00</td>\n",
       "      <td>1.16</td>\n",
       "    </tr>\n",
       "    <tr>\n",
       "      <th>5</th>\n",
       "      <td>Materiais Básicos</td>\n",
       "      <td>247</td>\n",
       "      <td>3025.79</td>\n",
       "      <td>4468.28</td>\n",
       "      <td>47.67</td>\n",
       "      <td>0.00</td>\n",
       "      <td>47.67</td>\n",
       "    </tr>\n",
       "    <tr>\n",
       "      <th>6</th>\n",
       "      <td>Consumo não Cíclico</td>\n",
       "      <td>101</td>\n",
       "      <td>2001.04</td>\n",
       "      <td>1286.43</td>\n",
       "      <td>0.00</td>\n",
       "      <td>55.55</td>\n",
       "      <td>-35.71</td>\n",
       "    </tr>\n",
       "    <tr>\n",
       "      <th>7</th>\n",
       "      <td>Bens Industriais</td>\n",
       "      <td>107</td>\n",
       "      <td>1293.33</td>\n",
       "      <td>806.01</td>\n",
       "      <td>0.00</td>\n",
       "      <td>60.46</td>\n",
       "      <td>-37.68</td>\n",
       "    </tr>\n",
       "    <tr>\n",
       "      <th>8</th>\n",
       "      <td>Utilidade Pública</td>\n",
       "      <td>100</td>\n",
       "      <td>1251.00</td>\n",
       "      <td>1121.00</td>\n",
       "      <td>0.00</td>\n",
       "      <td>11.60</td>\n",
       "      <td>-10.39</td>\n",
       "    </tr>\n",
       "    <tr>\n",
       "      <th>9</th>\n",
       "      <td>Tecnologia da Informação</td>\n",
       "      <td>50</td>\n",
       "      <td>1023.50</td>\n",
       "      <td>211.00</td>\n",
       "      <td>0.00</td>\n",
       "      <td>385.07</td>\n",
       "      <td>-79.38</td>\n",
       "    </tr>\n",
       "  </tbody>\n",
       "</table>\n",
       "</div>"
      ],
      "text/plain": [
       "                    SETORECONOMICO  QTDECOTAS  VALORTOTALCOMPRA  \\\n",
       "0  Petróleo, Gás e Biocombustíveis        464           9465.68   \n",
       "1                       Financeiro        486           7675.54   \n",
       "2                  Consumo Cíclico        488           6933.29   \n",
       "3                            Saúde        213           5202.53   \n",
       "4                     Comunicações       2740           3251.00   \n",
       "5                Materiais Básicos        247           3025.79   \n",
       "6              Consumo não Cíclico        101           2001.04   \n",
       "7                 Bens Industriais        107           1293.33   \n",
       "8                Utilidade Pública        100           1251.00   \n",
       "9         Tecnologia da Informação         50           1023.50   \n",
       "\n",
       "   VALORTOTALATUAL  RENDIMENTO(%)  PREJUIZO(%)  RETORNO(%)  \n",
       "0         17552.66          85.43         0.00       85.43  \n",
       "1          5381.16           0.00        42.64      -29.89  \n",
       "2          2284.96           0.00       203.43      -67.04  \n",
       "3          1547.21           0.00       236.25      -70.26  \n",
       "4          3288.80           1.16         0.00        1.16  \n",
       "5          4468.28          47.67         0.00       47.67  \n",
       "6          1286.43           0.00        55.55      -35.71  \n",
       "7           806.01           0.00        60.46      -37.68  \n",
       "8          1121.00           0.00        11.60      -10.39  \n",
       "9           211.00           0.00       385.07      -79.38  "
      ]
     },
     "execution_count": 37,
     "metadata": {},
     "output_type": "execute_result"
    }
   ],
   "source": [
    "st"
   ]
  }
 ],
 "metadata": {
  "kernelspec": {
   "display_name": "Python 3",
   "language": "python",
   "name": "python3"
  },
  "language_info": {
   "codemirror_mode": {
    "name": "ipython",
    "version": 3
   },
   "file_extension": ".py",
   "mimetype": "text/x-python",
   "name": "python",
   "nbconvert_exporter": "python",
   "pygments_lexer": "ipython3",
   "version": "3.9.6"
  }
 },
 "nbformat": 4,
 "nbformat_minor": 2
}
