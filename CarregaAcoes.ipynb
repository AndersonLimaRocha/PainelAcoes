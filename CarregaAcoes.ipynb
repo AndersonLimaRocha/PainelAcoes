{
 "cells": [
  {
   "cell_type": "markdown",
   "metadata": {},
   "source": [
    "## **Script do Pipeline de Carga das Cotações das Ações negociadas na Bolsa (Ibovespa/B3)**\n",
    "\n",
    "Este é um pipeline Python para carregar dados de cotações de ações negociadas na Bolsa de Valores (B3) do Brasil. \n",
    "O Pipeline consolida as informações e as exporta para um arquivo Excel. \n",
    "Os detalhes das ações que você negocia na bolsa podem ser acessadas pela **Nota de Corretagem**, emitida pela corretora. \n",
    "A nota é um extrato das operações realizadas na Bolsa de Valores e contém detalhes como: \n",
    "* Espécie da operação\n",
    "* Quantidade de títulos\n",
    "* Preço\n",
    "* Data do pregão\n",
    "* Valor da negociação\n",
    "* Corretagem cobrada\n",
    "* Emolumentos devidos\n",
    "* Mercado em que a operação foi realizada\n",
    "* Se a operação foi de compra (C) ou venda (V)\n",
    "* Tipo de mercado em que a operação foi realizada\n",
    "* Especificações do título \n",
    "\n",
    "\n",
    "#### **Funcionalidades do Pipeline:** \n",
    "* Carregar detalhes das ações negociadas a partir de um arquivo Excel.\n",
    "* Obter informações de setor e segmento das ações utilizando a biblioteca tradingcomdados.\n",
    "* Carregar o histórico de cotações e dividendos das ações utilizando a biblioteca yahooquery.\n",
    "* Consolidar os dados das ações, histórico de cotações e dividendos em um único DataFrame.\n",
    "* Exportar os dados consolidados para um arquivo Excel.\n",
    "\n",
    "\n",
    "#### **Funções criadas para execução do Pipeline:**\n",
    "* **run_pipeline:**             Função principal que coordena todo o processo.\n",
    "* **load_acoes_ibov:**          Carrega os dados das ações do arquivo Excel.\n",
    "* **get_sector_segment:**       Obtém informações de setor e segmento das ações.\n",
    "* **load_historical_data:**     Carrega o histórico de cotações e dividendos das ações.\n",
    "* **consolidate_data:**         Consolida os dados das ações.\n",
    "* **export_to_excel:**          Exporta os dados consolidados para um arquivo Excel.\n",
    "\n",
    "#### **Bibliotecas utilizadas:**\n",
    "* **pandas** -> biblioteca utilizada para armazenar os dados do Pipeline\n",
    "* **tradingcomdados** -> obtem detalhes de setores econômicos, subsetores e segmentos de mercado, para ativos financeiros negociados na bolsa\n",
    "* **yahooquery** -> para obter dados históricos de cotações e dividendos das ações.\n",
    "\n",
    "#### **Diretórios e arquivos dependentes e gerados (Input / Output):**\n",
    "* **Inputs/MinhasAcoes.xlsx:** Arquivo de entrada contendo os detalhes das ações negociadas.\n",
    "* **Outputs/MinhasCotacoes.xlsx:** Arquivo de saída onde os dados consolidados são exportados."
   ]
  },
  {
   "cell_type": "code",
   "execution_count": 1,
   "metadata": {},
   "outputs": [],
   "source": [
    "try: \n",
    "  import warnings    \n",
    "  warnings.filterwarnings(\"ignore\")\n",
    "except ImportError:\n",
    "   %pip install warnings\n",
    "   import warnings   \n",
    "   warnings.filterwarnings(\"ignore\")\n",
    "\n",
    "try:\n",
    "  import pandas as pd\n",
    "except ImportError:\n",
    "    %pip install pandas\n",
    "    import pandas\n",
    "\n",
    "try:\n",
    "  from tradingcomdados import alternative_data as ad\n",
    "except ImportError:\n",
    "    %pip install tradingcomdados\n",
    "    from tradingcomdados import alternative_data as ad\n",
    "\n",
    "try:\n",
    "   from yahooquery import Ticker\n",
    "except ImportError:\n",
    "   %pip install yahooquery --upgrade --no-cache-dir\n",
    "   from yahooquery import Ticker\n",
    "\n",
    "try:\n",
    "  import datetime as dt\n",
    "except ImportError:\n",
    "   %pip install datetime\n",
    "   import datetime as dt"
   ]
  },
  {
   "cell_type": "markdown",
   "metadata": {},
   "source": [
    "### **Mapeamento do Diretório de input das ações:**\n",
    "\n",
    "**Layout:** \n",
    "* **TITULO** CORRETORA = Descrição do Titulo na corretora\n",
    "* **CODIGO** = Código da ação para negociação na Bolsa\n",
    "* **COTAS** = Quantidade de fração/Cotas compradas\n",
    "* **VALOR** = Valor pago na Cota/Fração da Ação\n",
    "* **DATA COMPRA** = Data da compra da Cota/Fração "
   ]
  },
  {
   "cell_type": "code",
   "execution_count": 2,
   "metadata": {},
   "outputs": [],
   "source": [
    "file = 'Inputs/MinhasAcoes.xlsx'\n",
    "acoes_ibov = pd.read_excel(file, sheet_name='Planilha1') #minha tabela de ações"
   ]
  },
  {
   "cell_type": "code",
   "execution_count": 3,
   "metadata": {},
   "outputs": [],
   "source": [
    "#Dataframe para armazenar o segmento das ações\n",
    "dfAcoes = pd.DataFrame(columns = ['SETORECONOMICO','SUBSETOR','SEGMENTO','EMPRESA','TITULO','ACAO','QTDECOTAS','VALOR','DATACOMPRA'])\n",
    "dfAcoes = dfAcoes.astype( \n",
    "    dtype={\n",
    "        'SETORECONOMICO': str,\n",
    "        'SUBSETOR': str,\n",
    "        'SEGMENTO':str,\n",
    "        'EMPRESA':str,\n",
    "        'TITULO':str,\n",
    "        'ACAO':str,\n",
    "        'QTDECOTAS':int,\n",
    "        'VALOR':'Float64',\n",
    "        'DATACOMPRA':str\n",
    "        }\n",
    "    )\n",
    "\n",
    "#Dataframe das ações não localizadas para analisar a razão de não ter lolizado essa ação\n",
    "dfAcoesNaoCarregadas = pd.DataFrame(columns = ['TITULO','CODIGO', 'COTAS', 'VALOR', 'DATA COMPRA'])"
   ]
  },
  {
   "cell_type": "markdown",
   "metadata": {},
   "source": [
    "### Carregando informação de Setor e Segmento das ações. \n",
    "\n",
    "Esse trecho do código utiliza a biblioteca **tradingcomdados**"
   ]
  },
  {
   "cell_type": "code",
   "execution_count": 4,
   "metadata": {},
   "outputs": [],
   "source": [
    "for idx, row in acoes_ibov.iterrows():\n",
    "    titulo, acao, cotas, valor, dtcompra = row['TITULO CORRETORA'], row['CODIGO'], row['COTAS'], row['VALOR'], row['DATA']\n",
    "    try:\n",
    "        #Retorna os detalhes de Segmento das ações\n",
    "        dfSect = ad.get_sectors(acao)\n",
    "        setor, subsetor, segmento, empresa = dfSect.iloc[0][['SETOR ECONÔMICO', 'SUBSETOR', 'SEGMENTO', 'NOME NO PREGÃO']]\n",
    "        dfAcoes.loc[idx] = [setor, subsetor, segmento, empresa, titulo, acao, cotas, valor, dtcompra]\n",
    "    except:\n",
    "        dfAcoesNaoCarregadas.loc[idx] = [titulo, acao, cotas, valor, dtcompra]\n"
   ]
  },
  {
   "cell_type": "code",
   "execution_count": 5,
   "metadata": {},
   "outputs": [],
   "source": [
    "#Deduplicação de linhas e ordena pela coluna do nome da Ação.\n",
    "dfAcoes = dfAcoes.drop_duplicates().sort_values(by=['ACAO']).reset_index()"
   ]
  },
  {
   "cell_type": "code",
   "execution_count": 6,
   "metadata": {},
   "outputs": [],
   "source": [
    "# *******************************************************************************************************************************************\n",
    "# Tabela de histórico de Cotações de Ações \n",
    "\n",
    "historico_cotacao = pd.DataFrame(columns = ['ACAO','DATACOTACAO','VALORABERTURA','MAIORCOTACAO','MENORCOTACAO','VALORFECHAMENTO','VALORAJUSTADO','DATAPROCESSAMENTO'])\n",
    "historico_cotacao = historico_cotacao.astype( \n",
    "    dtype={\n",
    "        'ACAO': str,\n",
    "        'DATACOTACAO': 'datetime64[ns]',\n",
    "        'VALORABERTURA':'Float64',\n",
    "        'MAIORCOTACAO':'Float64',\n",
    "        'MENORCOTACAO':'Float64',\n",
    "        'VALORFECHAMENTO':'Float64',\n",
    "        'VALORAJUSTADO':'Float64',\n",
    "        'DATAPROCESSAMENTO':'datetime64[ns]'\n",
    "        }\n",
    "    )\n",
    "\n",
    "# *******************************************************************************************************************************************\n",
    "# Tabela de histórico de Dividendos\n",
    "\n",
    "dividendos = pd.DataFrame(columns = ['ACAO','DATACOTACAO','VALORDIVIDENDO','FLAG_DIVIDENDOS'])\n",
    "dividendos = dividendos.astype( \n",
    "    dtype={\n",
    "        'ACAO': str,\n",
    "        'DATACOTACAO': 'datetime64[ns]',\n",
    "        'VALORDIVIDENDO':'Float64',\n",
    "        'FLAG_DIVIDENDOS':str\n",
    "        }\n",
    "    )"
   ]
  },
  {
   "cell_type": "markdown",
   "metadata": {},
   "source": [
    "### Carregando histórico de cotações e dividendos das ações\n",
    "\n",
    "Esse trecho do código utiliza a biblioteca **yahooquery** para retornar o histórico das ações"
   ]
  },
  {
   "cell_type": "code",
   "execution_count": 7,
   "metadata": {},
   "outputs": [],
   "source": [
    "end_date =  dt.datetime.today().strftime('%Y-%m-%d')\n",
    "\n",
    "for _, row in dfAcoes.iterrows():\n",
    "\n",
    "    tkt = row['ACAO'] + '.SA'\n",
    "    dtcompra = pd.to_datetime(row['DATACOMPRA'], format='%Y-%m-%d')\n",
    "    \n",
    "    #Historico das ações \n",
    "    hist = Ticker(tkt).history(start=dtcompra, end=end_date).reset_index()\n",
    "    if not hist.empty:\n",
    "        hist['ACAO']                = tkt.replace('.SA', '')\n",
    "        hist['DATACOTACAO']         = pd.to_datetime(hist['date'] , format='%Y-%m-%d')\n",
    "        hist['DATAPROCESSAMENTO']   = pd.to_datetime(end_date)\n",
    "        hist = hist.rename(columns={'open': 'VALORABERTURA', 'high': 'MAIORCOTACAO', 'low': 'MENORCOTACAO', \n",
    "                                    'close': 'VALORFECHAMENTO', 'adjclose': 'VALORAJUSTADO'})\n",
    "        hist['VALORABERTURA']       = round(hist['VALORABERTURA'],2)\n",
    "        hist['MAIORCOTACAO']        = round(hist['MAIORCOTACAO'],2)      \n",
    "        hist['MENORCOTACAO']        = round(hist['MENORCOTACAO'],2)      \n",
    "        hist['VALORFECHAMENTO']     = round(hist['VALORFECHAMENTO'],2)      \n",
    "        hist['VALORAJUSTADO']       = round(hist['VALORAJUSTADO'],2)\n",
    "        \n",
    "\n",
    "        historico_cotacao = pd.concat([historico_cotacao, hist[['ACAO', 'DATACOTACAO', 'VALORABERTURA', 'MAIORCOTACAO', 'MENORCOTACAO', 'VALORFECHAMENTO', 'VALORAJUSTADO', 'DATAPROCESSAMENTO']]])\n",
    "\n",
    "    #Historico de dividendos\n",
    "    hst_dvd = Ticker(tkt).dividend_history(start=dtcompra, end=end_date).reset_index()    \n",
    "\n",
    "    #Consolida o Historico de dividendos\n",
    "    if not hst_dvd.empty:\n",
    "        hst_dvd['ACAO'] = tkt.replace('.SA', '')\n",
    "        hst_dvd['DATACOTACAO'] = pd.to_datetime(hst_dvd['date'])\n",
    "        hst_dvd['FLAG_DIVIDENDOS'] = 'Sim'\n",
    "        hst_dvd['dividends'] = round(hst_dvd['dividends'],2)\n",
    "        dividendos = pd.concat([dividendos, hst_dvd[['ACAO', 'DATACOTACAO', 'dividends', 'FLAG_DIVIDENDOS']].rename(columns={'dividends': 'VALORDIVIDENDO'})])    "
   ]
  },
  {
   "cell_type": "code",
   "execution_count": 8,
   "metadata": {},
   "outputs": [],
   "source": [
    "# Consolidando Ações Detalhadas com as suas respectivas cotações\n",
    "CotacaoConsolidadas = pd.merge(dfAcoes,historico_cotacao,on='ACAO')\n",
    "CotacaoConsolidadas = CotacaoConsolidadas.drop(\"index\", axis='columns')\n",
    "\n",
    "# Consolidando a tabela de Cotação com os valores de Dividendos\n",
    "CotacaoConsolidadas = pd.merge(CotacaoConsolidadas, dividendos, on=['ACAO','DATACOTACAO'], how='left') "
   ]
  },
  {
   "cell_type": "code",
   "execution_count": 9,
   "metadata": {},
   "outputs": [],
   "source": [
    "# Tratamento de valores de dividendos nulos\n",
    "CotacaoConsolidadas['VALORDIVIDENDO']  = CotacaoConsolidadas['VALORDIVIDENDO'].fillna(value=0)\n",
    "CotacaoConsolidadas['FLAG_DIVIDENDOS'] = CotacaoConsolidadas['FLAG_DIVIDENDOS'].fillna(value='Não')\n",
    "CotacaoConsolidadas['ANOCOTACAO'] = pd.DatetimeIndex(CotacaoConsolidadas['DATACOTACAO']).year"
   ]
  },
  {
   "cell_type": "code",
   "execution_count": 10,
   "metadata": {},
   "outputs": [],
   "source": [
    "divAno = CotacaoConsolidadas[['ACAO', 'DATACOTACAO' , 'FLAG_DIVIDENDOS']][CotacaoConsolidadas['FLAG_DIVIDENDOS'] == 'Sim']\n",
    "divAno['ANOCOTACAO'] = pd.DatetimeIndex(divAno['DATACOTACAO']).year\n",
    "divAno = divAno[['ACAO', 'ANOCOTACAO', 'FLAG_DIVIDENDOS']].drop_duplicates().sort_values(by=['ACAO']).reset_index().drop(\"index\", axis='columns').rename(columns={'FLAG_DIVIDENDOS': 'DIVIDENDOSANO'})"
   ]
  },
  {
   "cell_type": "code",
   "execution_count": 11,
   "metadata": {},
   "outputs": [],
   "source": [
    "CotacaoConsolidadas = pd.merge(CotacaoConsolidadas,divAno,on=['ACAO','ANOCOTACAO'],how='left')\n",
    "CotacaoConsolidadas = CotacaoConsolidadas.fillna(value='Não')"
   ]
  },
  {
   "cell_type": "markdown",
   "metadata": {},
   "source": [
    "#### **Extraindo o resultado para planilha Excel (.xlsx)**\n",
    "\n",
    "**Layout:** \n",
    "* **SETORECONOMICO**    = Descrição do Setor ecônomico da ação\n",
    "* **SUBSETOR**          = Descrição do subsetor ecônomico da ação\n",
    "* **SEGMENTO**          = Descrição do segmento ecônomico da ação\n",
    "* **TITULO**            = Código do título da acão\n",
    "* **ACAO**              = Código da ação negociada na Bolsa de Valores (B3)\n",
    "* **QTDECOTAS**         = Quantidade de Cotas/Fração da ação\n",
    "* **VALOR**             = Valor de compra pago na ação\n",
    "* **DATACOMPRA**        = Data da compra da Cota/Fração\n",
    "* **DATACOTACAO**       = Data da cotação da Cota/Fração\n",
    "* **VALORABERTURA**     = Valor de abertura que a Cota/Fração iniciou no dia da cotação\n",
    "* **MAIORCOTACAO**      = Maior valor/pico que a Cota/Fração da ação chegou no dia da cotação\n",
    "* **MENORCOTACAO**      = Menor valor que a Cota/Fração da ação chegou no dia da cotação\n",
    "* **VALORAJUSTADO**     = Valor final da Cota/Fração da ação fechou no dia da cotação\n",
    "* **DATAPROCESSAMENTO** = Data de processamento/excecução\n",
    "* **VALORDIVIDENDO**    = Valor do dividendo \n",
    "* **FLAG_DIVIDENDOS**   = Data de pagto do dividendo\n"
   ]
  },
  {
   "cell_type": "code",
   "execution_count": 12,
   "metadata": {},
   "outputs": [],
   "source": [
    "outputname = 'Outputs/MinhasCotacoes.xlsx'\n",
    "\n",
    "# Usando o ExcelWriter, cria um doc .xlsx, usando engine='xlsxwriter'\n",
    "MinhasCotacoes = pd.ExcelWriter(outputname, engine='xlsxwriter')\n",
    "\n",
    "# Armazena cada df em uma planilha diferente do mesmo arquivo\n",
    "CotacaoConsolidadas.to_excel(MinhasCotacoes, sheet_name='Cotação das Ações', index=False)\n",
    "dfAcoesNaoCarregadas.to_excel(MinhasCotacoes, sheet_name='Titulos não Localizados', index=False)\n",
    "\n",
    "# Fecha o ExcelWriter e gera o arquivo .xlsx\n",
    "MinhasCotacoes._save()"
   ]
  },
  {
   "cell_type": "code",
   "execution_count": 13,
   "metadata": {},
   "outputs": [],
   "source": [
    "## Excluindo os Dataframes para limpar a memoria\n",
    "del acoes_ibov\n",
    "del dfAcoesNaoCarregadas\n",
    "del historico_cotacao\n",
    "del CotacaoConsolidadas\n",
    "del MinhasCotacoes\n",
    "del dividendos\n",
    "del divAno"
   ]
  }
 ],
 "metadata": {
  "kernelspec": {
   "display_name": "Python 3",
   "language": "python",
   "name": "python3"
  },
  "language_info": {
   "codemirror_mode": {
    "name": "ipython",
    "version": 3
   },
   "file_extension": ".py",
   "mimetype": "text/x-python",
   "name": "python",
   "nbconvert_exporter": "python",
   "pygments_lexer": "ipython3",
   "version": "3.9.6"
  }
 },
 "nbformat": 4,
 "nbformat_minor": 2
}
